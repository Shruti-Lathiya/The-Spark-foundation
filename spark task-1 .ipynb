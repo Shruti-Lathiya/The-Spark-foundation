{
 "cells": [
  {
   "cell_type": "markdown",
   "id": "cda2b8a6",
   "metadata": {},
   "source": [
    "## The Sparks Foundation\n",
    "#### GRIP(Graduate Rotational Internship Program) March- 2023\n",
    "##### Name : Lathiya Shruti Pareshbhai\n",
    "##### Domain : Data Science & Business Analytics\n",
    "Task 1 - Prediction using Supervised Machine Learning\n",
    "Problem Statement :\n",
    "Predict the percentage of a student based on the number of study hours."
   ]
  },
  {
   "cell_type": "code",
   "execution_count": 2,
   "id": "e7e05381",
   "metadata": {},
   "outputs": [],
   "source": [
    "# Importing all libraries required in this notebook\n",
    "from pandas import *\n",
    "from numpy import *\n",
    "from matplotlib import pyplot as plt\n",
    "import seaborn as sns\n",
    "from scipy import stats\n",
    "\n",
    "from sklearn import linear_model\n",
    "from sklearn.linear_model import LinearRegression\n",
    "\n",
    "from math import sqrt\n",
    "%matplotlib inline"
   ]
  },
  {
   "cell_type": "code",
   "execution_count": 5,
   "id": "aa8da911",
   "metadata": {},
   "outputs": [
    {
     "name": "stdout",
     "output_type": "stream",
     "text": [
      "Data Imported successfully\n"
     ]
    },
    {
     "data": {
      "text/html": [
       "<div>\n",
       "<style scoped>\n",
       "    .dataframe tbody tr th:only-of-type {\n",
       "        vertical-align: middle;\n",
       "    }\n",
       "\n",
       "    .dataframe tbody tr th {\n",
       "        vertical-align: top;\n",
       "    }\n",
       "\n",
       "    .dataframe thead th {\n",
       "        text-align: right;\n",
       "    }\n",
       "</style>\n",
       "<table border=\"1\" class=\"dataframe\">\n",
       "  <thead>\n",
       "    <tr style=\"text-align: right;\">\n",
       "      <th></th>\n",
       "      <th>Hours</th>\n",
       "      <th>Scores</th>\n",
       "    </tr>\n",
       "  </thead>\n",
       "  <tbody>\n",
       "    <tr>\n",
       "      <th>0</th>\n",
       "      <td>2.5</td>\n",
       "      <td>21</td>\n",
       "    </tr>\n",
       "    <tr>\n",
       "      <th>1</th>\n",
       "      <td>5.1</td>\n",
       "      <td>47</td>\n",
       "    </tr>\n",
       "    <tr>\n",
       "      <th>2</th>\n",
       "      <td>3.2</td>\n",
       "      <td>27</td>\n",
       "    </tr>\n",
       "    <tr>\n",
       "      <th>3</th>\n",
       "      <td>8.5</td>\n",
       "      <td>75</td>\n",
       "    </tr>\n",
       "    <tr>\n",
       "      <th>4</th>\n",
       "      <td>3.5</td>\n",
       "      <td>30</td>\n",
       "    </tr>\n",
       "    <tr>\n",
       "      <th>5</th>\n",
       "      <td>1.5</td>\n",
       "      <td>20</td>\n",
       "    </tr>\n",
       "    <tr>\n",
       "      <th>6</th>\n",
       "      <td>9.2</td>\n",
       "      <td>88</td>\n",
       "    </tr>\n",
       "    <tr>\n",
       "      <th>7</th>\n",
       "      <td>5.5</td>\n",
       "      <td>60</td>\n",
       "    </tr>\n",
       "    <tr>\n",
       "      <th>8</th>\n",
       "      <td>8.3</td>\n",
       "      <td>81</td>\n",
       "    </tr>\n",
       "    <tr>\n",
       "      <th>9</th>\n",
       "      <td>2.7</td>\n",
       "      <td>25</td>\n",
       "    </tr>\n",
       "    <tr>\n",
       "      <th>10</th>\n",
       "      <td>7.7</td>\n",
       "      <td>85</td>\n",
       "    </tr>\n",
       "    <tr>\n",
       "      <th>11</th>\n",
       "      <td>5.9</td>\n",
       "      <td>62</td>\n",
       "    </tr>\n",
       "  </tbody>\n",
       "</table>\n",
       "</div>"
      ],
      "text/plain": [
       "    Hours  Scores\n",
       "0     2.5      21\n",
       "1     5.1      47\n",
       "2     3.2      27\n",
       "3     8.5      75\n",
       "4     3.5      30\n",
       "5     1.5      20\n",
       "6     9.2      88\n",
       "7     5.5      60\n",
       "8     8.3      81\n",
       "9     2.7      25\n",
       "10    7.7      85\n",
       "11    5.9      62"
      ]
     },
     "execution_count": 5,
     "metadata": {},
     "output_type": "execute_result"
    }
   ],
   "source": [
    "# Reading data from remote link\n",
    "\n",
    "stu_data = read_csv(\"E:/task1.csv\")\n",
    "print(\"Data Imported successfully\")\n",
    "stu_data.head(12)"
   ]
  },
  {
   "cell_type": "code",
   "execution_count": 7,
   "id": "6cd6c010",
   "metadata": {},
   "outputs": [
    {
     "data": {
      "text/html": [
       "<div>\n",
       "<style scoped>\n",
       "    .dataframe tbody tr th:only-of-type {\n",
       "        vertical-align: middle;\n",
       "    }\n",
       "\n",
       "    .dataframe tbody tr th {\n",
       "        vertical-align: top;\n",
       "    }\n",
       "\n",
       "    .dataframe thead th {\n",
       "        text-align: right;\n",
       "    }\n",
       "</style>\n",
       "<table border=\"1\" class=\"dataframe\">\n",
       "  <thead>\n",
       "    <tr style=\"text-align: right;\">\n",
       "      <th></th>\n",
       "      <th>Hours</th>\n",
       "      <th>Scores</th>\n",
       "    </tr>\n",
       "  </thead>\n",
       "  <tbody>\n",
       "    <tr>\n",
       "      <th>count</th>\n",
       "      <td>25.000000</td>\n",
       "      <td>25.000000</td>\n",
       "    </tr>\n",
       "    <tr>\n",
       "      <th>mean</th>\n",
       "      <td>5.012000</td>\n",
       "      <td>51.480000</td>\n",
       "    </tr>\n",
       "    <tr>\n",
       "      <th>std</th>\n",
       "      <td>2.525094</td>\n",
       "      <td>25.286887</td>\n",
       "    </tr>\n",
       "    <tr>\n",
       "      <th>min</th>\n",
       "      <td>1.100000</td>\n",
       "      <td>17.000000</td>\n",
       "    </tr>\n",
       "    <tr>\n",
       "      <th>25%</th>\n",
       "      <td>2.700000</td>\n",
       "      <td>30.000000</td>\n",
       "    </tr>\n",
       "    <tr>\n",
       "      <th>50%</th>\n",
       "      <td>4.800000</td>\n",
       "      <td>47.000000</td>\n",
       "    </tr>\n",
       "    <tr>\n",
       "      <th>75%</th>\n",
       "      <td>7.400000</td>\n",
       "      <td>75.000000</td>\n",
       "    </tr>\n",
       "    <tr>\n",
       "      <th>max</th>\n",
       "      <td>9.200000</td>\n",
       "      <td>95.000000</td>\n",
       "    </tr>\n",
       "  </tbody>\n",
       "</table>\n",
       "</div>"
      ],
      "text/plain": [
       "           Hours     Scores\n",
       "count  25.000000  25.000000\n",
       "mean    5.012000  51.480000\n",
       "std     2.525094  25.286887\n",
       "min     1.100000  17.000000\n",
       "25%     2.700000  30.000000\n",
       "50%     4.800000  47.000000\n",
       "75%     7.400000  75.000000\n",
       "max     9.200000  95.000000"
      ]
     },
     "execution_count": 7,
     "metadata": {},
     "output_type": "execute_result"
    }
   ],
   "source": [
    "stu_data.describe()"
   ]
  },
  {
   "cell_type": "code",
   "execution_count": 9,
   "id": "6e746d9c",
   "metadata": {},
   "outputs": [
    {
     "data": {
      "text/plain": [
       "Hours     0\n",
       "Scores    0\n",
       "dtype: int64"
      ]
     },
     "execution_count": 9,
     "metadata": {},
     "output_type": "execute_result"
    }
   ],
   "source": [
    "   #Now we check for Null value if it's  present\n",
    "stu_data.isna().sum() "
   ]
  },
  {
   "cell_type": "code",
   "execution_count": 11,
   "id": "b540fd04",
   "metadata": {},
   "outputs": [
    {
     "data": {
      "image/png": "[encoded data removed]",
      "text/plain": [
       "<Figure size 540x360 with 1 Axes>"
      ]
     },
     "metadata": {
      "needs_background": "light"
     },
     "output_type": "display_data"
    }
   ],
   "source": [
    "plt.rcParams[\"figure.figsize\"] = [7.50, 5]\n",
    "plt.rcParams[\"figure.autolayout\"] = True\n",
    "boxplot = stu_data[['Hours', 'Scores']].plot(kind = 'box', title = \"Box Ploat of Hours and Scores\" , \n",
    "                                             patch_artist=True,\n",
    "                                            boxprops={'facecolor': 'skyblue',\n",
    "                                            'edgecolor': 'black'}) "
   ]
  },
  {
   "cell_type": "code",
   "execution_count": 13,
   "id": "8c3c683b",
   "metadata": {},
   "outputs": [
    {
     "data": {
      "image/png": "[encoded data removed]",
      "text/plain": [
       "<Figure size 540x360 with 1 Axes>"
      ]
     },
     "metadata": {
      "needs_background": "light"
     },
     "output_type": "display_data"
    }
   ],
   "source": [
    "# Plotting the distribution of scores\n",
    "stu_data.plot(x=\"Hours\" , y = \"Scores\", style=\"o\")\n",
    "plt.title(\"Hours Studied V/s Scores \")\n",
    "plt.xlabel(\"Hours Studied\")\n",
    "plt.ylabel(\"Scores Obtained\")\n",
    "plt.show()"
   ]
  },
  {
   "cell_type": "code",
   "execution_count": 15,
   "id": "17bbc8e6",
   "metadata": {},
   "outputs": [
    {
     "data": {
      "text/plain": [
       "((array([-1.9213301 , -1.50368257, -1.24941883, -1.0573306 , -0.897955  ,\n",
       "         -0.75865603, -0.63273432, -0.51614096, -0.40618759, -0.30094875,\n",
       "         -0.19894932, -0.09898372,  0.        ,  0.09898372,  0.19894932,\n",
       "          0.30094875,  0.40618759,  0.51614096,  0.63273432,  0.75865603,\n",
       "          0.897955  ,  1.0573306 ,  1.24941883,  1.50368257,  1.9213301 ]),\n",
       "  array([1.1, 1.5, 1.9, 2.5, 2.5, 2.7, 2.7, 3.2, 3.3, 3.5, 3.8, 4.5, 4.8,\n",
       "         5.1, 5.5, 5.9, 6.1, 6.9, 7.4, 7.7, 7.8, 8.3, 8.5, 8.9, 9.2])),\n",
       " (2.583577905087343, 5.012, 0.9789402086868313))"
      ]
     },
     "execution_count": 15,
     "metadata": {},
     "output_type": "execute_result"
    },
    {
     "data": {
      "image/png": "[encoded data removed]",
      "text/plain": [
       "<Figure size 540x360 with 1 Axes>"
      ]
     },
     "metadata": {
      "needs_background": "light"
     },
     "output_type": "display_data"
    }
   ],
   "source": [
    "#Checking Normality by Graphical Representation\n",
    "#For Hours\n",
    "stats.probplot(stu_data['Hours'], plot = plt)"
   ]
  },
  {
   "cell_type": "code",
   "execution_count": 16,
   "id": "7d8d6439",
   "metadata": {},
   "outputs": [
    {
     "data": {
      "text/plain": [
       "((array([-1.9213301 , -1.50368257, -1.24941883, -1.0573306 , -0.897955  ,\n",
       "         -0.75865603, -0.63273432, -0.51614096, -0.40618759, -0.30094875,\n",
       "         -0.19894932, -0.09898372,  0.        ,  0.09898372,  0.19894932,\n",
       "          0.30094875,  0.40618759,  0.51614096,  0.63273432,  0.75865603,\n",
       "          0.897955  ,  1.0573306 ,  1.24941883,  1.50368257,  1.9213301 ]),\n",
       "  array([17, 20, 21, 24, 25, 27, 30, 30, 30, 35, 41, 42, 47, 54, 60, 62, 67,\n",
       "         69, 75, 76, 81, 85, 86, 88, 95], dtype=int64)),\n",
       " (25.58038152298867, 51.47999999999999, 0.9678851140595))"
      ]
     },
     "execution_count": 16,
     "metadata": {},
     "output_type": "execute_result"
    },
    {
     "data": {
      "image/png": "[encoded data removed]",
      "text/plain": [
       "<Figure size 540x360 with 1 Axes>"
      ]
     },
     "metadata": {
      "needs_background": "light"
     },
     "output_type": "display_data"
    }
   ],
   "source": [
    "#For Scores\n",
    "stats.probplot(stu_data['Scores'], plot = plt)"
   ]
  },
  {
   "cell_type": "code",
   "execution_count": 17,
   "id": "0dd8f03e",
   "metadata": {},
   "outputs": [
    {
     "data": {
      "text/plain": [
       "ShapiroResult(statistic=0.9401376247406006, pvalue=0.1491180658340454)"
      ]
     },
     "execution_count": 17,
     "metadata": {},
     "output_type": "execute_result"
    }
   ],
   "source": [
    "#Here we use Shapiro-Wilk normality test becase we have less than(<) 50 observation\n",
    "stats.shapiro(stu_data['Hours'])"
   ]
  },
  {
   "cell_type": "code",
   "execution_count": 18,
   "id": "9761c30e",
   "metadata": {
    "scrolled": true
   },
   "outputs": [
    {
     "data": {
      "text/plain": [
       "ShapiroResult(statistic=0.9168438911437988, pvalue=0.04343847185373306)"
      ]
     },
     "execution_count": 18,
     "metadata": {},
     "output_type": "execute_result"
    }
   ],
   "source": [
    "stats.shapiro(stu_data['Scores'])"
   ]
  },
  {
   "cell_type": "markdown",
   "id": "8fc724f3",
   "metadata": {},
   "source": [
    "Conclusion\n",
    "Here,\n",
    "\n",
    "we can see that P value for Hours Studied is 0.149 which is Greater than (>) 0.05 so we can accept H0 and conclude that data is normal at 5 % Level of Sgnificance\n",
    "\n",
    "For Scores obtainded P value is 0.043 which is Greater than (>) 0.01 so we can accept H0 and conclude that data is normal at 1 % Level of Sgnificance\n",
    "\n"
   ]
  },
  {
   "cell_type": "markdown",
   "id": "84cf1e12",
   "metadata": {},
   "source": [
    "## Correlation between study hours and Scores obtained"
   ]
  },
  {
   "cell_type": "code",
   "execution_count": 19,
   "id": "0313f5f5",
   "metadata": {},
   "outputs": [
    {
     "name": "stdout",
     "output_type": "stream",
     "text": [
      "           Hours    Scores\n",
      "Hours   1.000000  0.976191\n",
      "Scores  0.976191  1.000000\n"
     ]
    },
    {
     "data": {
      "text/plain": [
       "<AxesSubplot:>"
      ]
     },
     "execution_count": 19,
     "metadata": {},
     "output_type": "execute_result"
    },
    {
     "data": {
      "image/png": "[encoded data removed]",
      "text/plain": [
       "<Figure size 540x360 with 2 Axes>"
      ]
     },
     "metadata": {
      "needs_background": "light"
     },
     "output_type": "display_data"
    }
   ],
   "source": [
    "correlation = stu_data.corr()\n",
    "print(correlation)\n",
    "\n",
    "#Visualizing Correlation by heatmap\n",
    "sns.heatmap(correlation,annot = True)"
   ]
  },
  {
   "cell_type": "markdown",
   "id": "14b7a049",
   "metadata": {},
   "source": [
    "Conclusion :\n",
    "Thus, From this we may conclude that there is highly possitive correlation between Hours studied and Scores Obtained"
   ]
  },
  {
   "cell_type": "markdown",
   "id": "9da30256",
   "metadata": {},
   "source": [
    "## Preparing the data :"
   ]
  },
  {
   "cell_type": "code",
   "execution_count": 20,
   "id": "ff7bb847",
   "metadata": {},
   "outputs": [],
   "source": [
    "x = stu_data.iloc[:, :-1].values  \n",
    "y = stu_data.iloc[:, 1].values "
   ]
  },
  {
   "cell_type": "markdown",
   "id": "9e1a678d",
   "metadata": {},
   "source": [
    "Split data into traning and testing:-\n",
    "Here,the independent variable is 'Hours Studied' and dependent variable is 'Scores Obtained'.\n",
    "\n",
    "to make predictions about the scores obtainded based on the number of hours studied.\n",
    "\n",
    "we will run train test split method where we are going to divide the dataset in the ratio 8:2.\n",
    "\n",
    "The 80% is the training dataset through which we are going to make prediction on the test set."
   ]
  },
  {
   "cell_type": "code",
   "execution_count": 21,
   "id": "60c76613",
   "metadata": {},
   "outputs": [],
   "source": [
    "from sklearn.model_selection import train_test_split\n",
    "x_train,x_test,y_train,y_test = train_test_split(x, y, test_size=0.2, random_state=0)"
   ]
  },
  {
   "cell_type": "code",
   "execution_count": 24,
   "id": "9ef3a192",
   "metadata": {},
   "outputs": [
    {
     "name": "stdout",
     "output_type": "stream",
     "text": [
      "Training Completed\n"
     ]
    }
   ],
   "source": [
    "reg = LinearRegression()\n",
    "reg.fit(x_train, y_train)\n",
    "\n",
    "print(\"Training Completed\")"
   ]
  },
  {
   "cell_type": "code",
   "execution_count": 25,
   "id": "58b871cd",
   "metadata": {},
   "outputs": [
    {
     "data": {
      "image/png": "[encoded data removed]",
      "text/plain": [
       "<Figure size 540x360 with 1 Axes>"
      ]
     },
     "metadata": {
      "needs_background": "light"
     },
     "output_type": "display_data"
    }
   ],
   "source": [
    "#plotting the regression line\n",
    "line = reg.coef_*x+reg.intercept_ \n",
    "\n",
    "#plotting for the test data \n",
    "plt.scatter(x,y, marker = '+')\n",
    "plt.plot(x , line , color = \"red\")\n",
    "plt.title(\"Hours Studied V/s Scores \")\n",
    "plt.xlabel(\"Hours Studied\")\n",
    "plt.ylabel(\"Scores Obtained\")\n",
    "plt.show()"
   ]
  },
  {
   "cell_type": "markdown",
   "id": "a64ab9f7",
   "metadata": {},
   "source": [
    "## Making Predictions"
   ]
  },
  {
   "cell_type": "code",
   "execution_count": 27,
   "id": "6ffbe2d7",
   "metadata": {
    "scrolled": true
   },
   "outputs": [
    {
     "name": "stdout",
     "output_type": "stream",
     "text": [
      "[[1.5]\n",
      " [3.2]\n",
      " [7.4]\n",
      " [2.5]\n",
      " [5.9]]\n"
     ]
    }
   ],
   "source": [
    "print(x_test)"
   ]
  },
  {
   "cell_type": "markdown",
   "id": "4d2caf94",
   "metadata": {},
   "source": [
    "## Computing actual v\\s. predicted"
   ]
  },
  {
   "cell_type": "code",
   "execution_count": 29,
   "id": "21662f83",
   "metadata": {},
   "outputs": [
    {
     "data": {
      "text/html": [
       "<div>\n",
       "<style scoped>\n",
       "    .dataframe tbody tr th:only-of-type {\n",
       "        vertical-align: middle;\n",
       "    }\n",
       "\n",
       "    .dataframe tbody tr th {\n",
       "        vertical-align: top;\n",
       "    }\n",
       "\n",
       "    .dataframe thead th {\n",
       "        text-align: right;\n",
       "    }\n",
       "</style>\n",
       "<table border=\"1\" class=\"dataframe\">\n",
       "  <thead>\n",
       "    <tr style=\"text-align: right;\">\n",
       "      <th></th>\n",
       "      <th>Actual Value</th>\n",
       "      <th>Predicted Value</th>\n",
       "    </tr>\n",
       "  </thead>\n",
       "  <tbody>\n",
       "    <tr>\n",
       "      <th>0</th>\n",
       "      <td>20</td>\n",
       "      <td>16.884145</td>\n",
       "    </tr>\n",
       "    <tr>\n",
       "      <th>1</th>\n",
       "      <td>27</td>\n",
       "      <td>33.732261</td>\n",
       "    </tr>\n",
       "    <tr>\n",
       "      <th>2</th>\n",
       "      <td>69</td>\n",
       "      <td>75.357018</td>\n",
       "    </tr>\n",
       "    <tr>\n",
       "      <th>3</th>\n",
       "      <td>30</td>\n",
       "      <td>26.794801</td>\n",
       "    </tr>\n",
       "    <tr>\n",
       "      <th>4</th>\n",
       "      <td>62</td>\n",
       "      <td>60.491033</td>\n",
       "    </tr>\n",
       "  </tbody>\n",
       "</table>\n",
       "</div>"
      ],
      "text/plain": [
       "   Actual Value  Predicted Value\n",
       "0            20        16.884145\n",
       "1            27        33.732261\n",
       "2            69        75.357018\n",
       "3            30        26.794801\n",
       "4            62        60.491033"
      ]
     },
     "execution_count": 29,
     "metadata": {},
     "output_type": "execute_result"
    }
   ],
   "source": [
    "y_pred = reg.predict(x_test)\n",
    "df = DataFrame({\"Actual Value\" : y_test , \"Predicted Value\" : y_pred})\n",
    "df"
   ]
  },
  {
   "cell_type": "code",
   "execution_count": 30,
   "id": "89375716",
   "metadata": {},
   "outputs": [
    {
     "name": "stdout",
     "output_type": "stream",
     "text": [
      "Enter Study hours to predict scores accordingly : 8.5\n",
      "If Student study 8.5 Hours daily, then score will be 86.2587401268937\n"
     ]
    }
   ],
   "source": [
    "user_value = float(input(\"Enter Study hours to predict scores accordingly : \"))\n",
    "pre = reg.predict([[user_value]])\n",
    "print(\"If Student study\",user_value, \"Hours daily, then score will be\",pre[0])"
   ]
  }
 ],
 "metadata": {
  "kernelspec": {
   "display_name": "Python 3 (ipykernel)",
   "language": "python",
   "name": "python3"
  },
  "language_info": {
   "codemirror_mode": {
    "name": "ipython",
    "version": 3
   },
   "file_extension": ".py",
   "mimetype": "text/x-python",
   "name": "python",
   "nbconvert_exporter": "python",
   "pygments_lexer": "ipython3",
   "version": "3.9.7"
  }
 },
 "nbformat": 4,
 "nbformat_minor": 5
}
